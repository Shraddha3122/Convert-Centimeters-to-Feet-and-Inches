{
 "cells": [
  {
   "cell_type": "code",
   "execution_count": 3,
   "id": "a500070b",
   "metadata": {},
   "outputs": [
    {
     "name": "stdout",
     "output_type": "stream",
     "text": [
      "Enter the height in centimeters:50\n",
      "The length in inches 19.7\n",
      "The length in feet 1.64\n"
     ]
    }
   ],
   "source": [
    "cm=int(input(\"Enter the height in centimeters:\"))\n",
    "inches=0.394*cm\n",
    "feet=0.0328*cm\n",
    "print(\"The length in inches\",round(inches,2))\n",
    "print(\"The length in feet\",round(feet,2))"
   ]
  }
 ],
 "metadata": {
  "kernelspec": {
   "display_name": "Python 3 (ipykernel)",
   "language": "python",
   "name": "python3"
  },
  "language_info": {
   "codemirror_mode": {
    "name": "ipython",
    "version": 3
   },
   "file_extension": ".py",
   "mimetype": "text/x-python",
   "name": "python",
   "nbconvert_exporter": "python",
   "pygments_lexer": "ipython3",
   "version": "3.9.12"
  }
 },
 "nbformat": 4,
 "nbformat_minor": 5
}
